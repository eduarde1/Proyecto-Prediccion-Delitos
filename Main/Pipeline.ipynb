{
 "cells": [
  {
   "cell_type": "code",
   "execution_count": 1,
   "metadata": {},
   "outputs": [],
   "source": [
    "#importar librerías\n",
    "import pandas as pd\n",
    "import numpy as np\n",
    "\n",
    "import os\n",
    "\n",
    "import folium\n",
    "from folium import plugins\n",
    "\n",
    "from wwo_hist import retrieve_hist_data\n",
    "\n",
    "from sklearn.metrics import mean_squared_error\n",
    "from sklearn.metrics import r2_score\n",
    "from sklearn.model_selection import train_test_split\n",
    "from sklearn.preprocessing import OneHotEncoder\n",
    "from sklearn.preprocessing import StandardScaler\n",
    "from sklearn.preprocessing import LabelEncoder\n",
    "from sklearn.preprocessing import normalize\n",
    "from sklearn.ensemble import RandomForestRegressor\n",
    "from sklearn.ensemble import ExtraTreesRegressor\n",
    "from sklearn.linear_model import LinearRegression\n",
    "from sklearn.model_selection import RandomizedSearchCV\n",
    "from sklearn.model_selection import GridSearchCV"
   ]
  },
  {
   "cell_type": "code",
   "execution_count": 2,
   "metadata": {},
   "outputs": [],
   "source": [
    "def leer_data():\n",
    "    data = pd.read_csv('../Data/carpetas-de-investigacion-pgj-de-la-ciudad-de-mexico.csv', sep=';')\n",
    "    return data"
   ]
  },
  {
   "cell_type": "code",
   "execution_count": 3,
   "metadata": {},
   "outputs": [],
   "source": [
    "def transformar_data():\n",
    "    data.drop(columns=['ao_hechos', 'mes_hechos', 'calle_hechos2', 'geopoint', 'ao_inicio', 'mes_inicio', 'fecha_inicio'], inplace=True)\n",
    "    data['fecha_hechos'] = pd.to_datetime(data.fecha_hechos, errors='coerce')\n",
    "    data.longitud.astype('float', inplace=True)\n",
    "    data.latitud.astype('float', inplace=True)\n",
    "    data.dropna(inplace=True)\n",
    "    return data"
   ]
  },
  {
   "cell_type": "code",
   "execution_count": null,
   "metadata": {},
   "outputs": [],
   "source": [
    "def get_clima():\n",
    "    os.chdir(\"../Data\")\n",
    "    frequency = 1\n",
    "    start_date = '01-JAN-2014'\n",
    "    end_date = '30-AUG-2019'\n",
    "    api_key = '28f7f02aa28d4afe9dc215223190509'\n",
    "    location_list = ['mexico_city']\n",
    "    hist_weather_data = retrieve_hist_data(api_key, location_list, start_date, end_date, frequency, location_label = False, export_csv=True, store_df = True)\n",
    "    clima = pd.read_csv('../Data/mexico_city.csv')\n",
    "    clima.drop(columns=['maxtempC', 'mintempC', 'totalSnow_cm', 'sunHour', 'uvIndex.1', 'moonrise', 'moonset', 'sunrise', 'sunset', 'HeatIndexC', 'WindChillC', 'WindGustKmph'], inplace=True)\n",
    "    clima.columns = ['fecha_hechos', 'uv', 'ilu_luna', 'punto_rocio', 'temp_sentir', 'nubosidad', 'humedad', 'precipitacion', 'presion', 'temperatura', 'visibilidad', 'dir_viento', 'vel_viento']\n",
    "    return clima"
   ]
  },
  {
   "cell_type": "code",
   "execution_count": null,
   "metadata": {},
   "outputs": [],
   "source": [
    "def get_colonia_delito():\n",
    "    roma_n = data[(data.alcaldia_hechos == 'CUAUHTEMOC') & (data.colonia_hechos == 'ROMA NORTE')]\n",
    "    roma_n = roma_n[(roma_n.categoria_delito == 'ROBO A TRANSEUNTE EN VÍA PÚBLICA CON Y SIN VIOLENCIA') |\n",
    "              (roma_n.delito == 'ROBO A TRANSEUNTE DE CELULAR SIN VIOLENCIA') | \n",
    "              (roma_n.delito == 'ROBO A TRANSEUNTE DE CELULAR CON VIOLENCIA') |\n",
    "              (roma_n.delito == 'ROBO A TRANSEUNTE SALIENDO DEL BANCO CON VIOLENCIA')]\n",
    "    roma_n.sort_values(by='fecha_hechos', ascending=True, inplace=True)\n",
    "    roma_n = pd.merge_asof(roma_n, clima, on='fecha_hechos')\n",
    "    roma_n['nombre_dia'] = roma_n.fecha_hechos.dt.weekday\n",
    "    festivos = ['01-01', '01-05', '01-06', '02-05', '02-04', '03-21', '05-01', '05-05', '09-15', '09-16', '10-31', '11-01', '11-02', '11-20', '12-12', '12-24', '12-25', '12-31']\n",
    "    años = ['2015', '2016', '2017', '2018', '2019']\n",
    "    festivo = [i+'-'+x for i in años for x in festivos]\n",
    "    festivo = pd.DataFrame(festivo, columns=['dia'])\n",
    "    festivo['dia_festivo'] = 1\n",
    "    festivo['dia'] = pd.to_datetime(festivo.dia).dt.date\n",
    "    roma_n['dia'] = roma_n.fecha_hechos.dt.date\n",
    "    roma_n = pd.merge(roma_n, festivo, how='left', on='dia')\n",
    "    roma_n.dia_festivo.fillna(0, inplace=True)\n",
    "    roma_n['dia_festivo'] = roma_n.dia_festivo.astype('int', inplace=True)\n",
    "    roma_n.drop(columns='dia', inplace=True)\n",
    "    return roma_n"
   ]
  },
  {
   "cell_type": "code",
   "execution_count": null,
   "metadata": {},
   "outputs": [],
   "source": [
    "def mapear():\n",
    "    os.chdir(\"../Images\")\n",
    "    mapa=folium.Map(location=[19.443056, -99.144444], zoom_start=15)\n",
    "    for index, row in roma_n.iterrows():\n",
    "        folium.CircleMarker([row['latitud'], row['longitud']], radius=1, fill_color=\"#3db7e4\").add_to(mapa)\n",
    "    geo = roma_n[['latitud', 'longitud']].as_matrix()\n",
    "    mapa.add_children(plugins.HeatMap(geo, radius=15))\n",
    "    mapa.save('mapa.html')"
   ]
  },
  {
   "cell_type": "code",
   "execution_count": null,
   "metadata": {},
   "outputs": [],
   "source": [
    "def preparar_prediccion():\n",
    "    prueba = roma_n.copy()\n",
    "    prueba.drop(columns=['fiscalia', 'agencia', 'unidad_investigacion', 'alcaldia_hechos', 'punto_rocio', 'colonia_hechos', 'calle_hechos', 'temp_sentir', 'categoria_delito'], inplace=True)\n",
    "    X = prueba.drop(columns=['fecha_hechos', 'latitud', 'longitud'])\n",
    "    y = prueba[['fecha_hechos', 'latitud', 'longitud']]\n",
    "    label = LabelEncoder()\n",
    "    X.delito = label.fit_transform(X.delito)\n",
    "    X.categoria_delito = label.fit_transform(X.categoria_delito)\n",
    "    X.calle_hechos = label.fit_transform(X.calle_hechos)\n",
    "    X['año'] = y.fecha_hechos.dt.year\n",
    "    process = StandardScaler()\n",
    "    X = process.fit_transform(X)\n",
    "    y['dia'] = y.fecha_hechos.dt.day\n",
    "    y['mese'] = y.fecha_hechos.dt.month\n",
    "    y['hora'] = y.fecha_hechos.dt.hour\n",
    "    y['minuto'] = y.fecha_hechos.dt.minute\n",
    "    y.drop(columns='fecha_hechos', inplace=True)\n",
    "    return X, y"
   ]
  },
  {
   "cell_type": "code",
   "execution_count": null,
   "metadata": {},
   "outputs": [],
   "source": [
    "def prediccion():\n",
    "    etr = ExtraTreesRegressor(n_estimators=750, max_depth=400, random_state=1)\n",
    "    etr.fit(X, y)\n",
    "    pre = etr.predict(X)\n",
    "    prediction = pd.DataFrame(pre, columns=['latitud', 'longitud', 'day', 'month', 'hour', 'minute'])\n",
    "    prediction[['day', 'month', 'hour', 'minute']] = prediction[['day', 'month', 'hour', 'minute']].round().astype('int')\n",
    "    prediction['year'] = '2020'\n",
    "    prediction['fecha_hechos'] = pd.to_datetime(prediction[['year', 'day', 'month', 'hour', 'minute']], errors='coerce')\n",
    "    prediction.drop(columns=['year', 'day', 'month', 'hour', 'minute'], inplace=True)\n",
    "    prediction.sort_values(by='fecha_hechos', inplace=True)\n",
    "    return prediction"
   ]
  },
  {
   "cell_type": "code",
   "execution_count": null,
   "metadata": {},
   "outputs": [],
   "source": [
    "def mapear_prediccion():\n",
    "    os.chdir(\"../Images\")\n",
    "    prediction['weight'] = [i for i in range(len(prediction))]\n",
    "    mapa_final = folium.Map(location=[19.443056, -99.144444], zoom_start=15)\n",
    "    geo = [[[row['latitud'], row['longitud']] for index, row in prediction[prediction['weight'] == i].iterrows()] for i in range(len(prediction))]\n",
    "    index = ['{:%Y-%m-%d %H-%M-%S}'.format(i) for i in prediction.fecha_hechos]\n",
    "    hm = plugins.HeatMapWithTime(geo, index=index, radius=20, auto_play=True, max_opacity=0.8, name='Robo a transeunte')\n",
    "    hm.add_to(mapa_final)\n",
    "    mapa_final.save('mapa_final.html')"
   ]
  }
 ],
 "metadata": {
  "kernelspec": {
   "display_name": "Python 3",
   "language": "python",
   "name": "python3"
  },
  "language_info": {
   "codemirror_mode": {
    "name": "ipython",
    "version": 3
   },
   "file_extension": ".py",
   "mimetype": "text/x-python",
   "name": "python",
   "nbconvert_exporter": "python",
   "pygments_lexer": "ipython3",
   "version": "3.7.3"
  }
 },
 "nbformat": 4,
 "nbformat_minor": 2
}
